{
  "nbformat": 4,
  "nbformat_minor": 0,
  "metadata": {
    "colab": {
      "provenance": []
    },
    "kernelspec": {
      "name": "python3",
      "display_name": "Python 3"
    },
    "language_info": {
      "name": "python"
    }
  },
  "cells": [
    {
      "cell_type": "code",
      "source": [
        "from gensim.models import Word2Vec\n",
        "from nltk.tokenize import word_tokenize, sent_tokenize\n",
        "import nltk\n",
        "nltk.download('punkt')\n",
        "\n",
        "text = \"\"\"\n",
        "Morocco and Marrakech: A Tapestry of Tradition and Modernity Morocco, located at the crossroads of Europe and Africa, is a country drenched in history, mystery, and cultural richness. A testament to the ancient civilizations that once flourished here, this North African kingdom boasts a unique blend of Arab, Berber, and European influences. At the heart of Morocco's rich tapestry lies Marrakech, one of its four imperial cities and a vibrant epicenter of tradition and modernity. Geographical Significance Morocco is bordered by the Atlantic Ocean to the west, the Mediterranean Sea to the north, Algeria to the east and southeast, and the vast Sahara desert to the south. Its strategic location has historically made it a sought-after territory and a melting pot of cultures, religions, and trade routes. Marrakech: The Red City Marrakech, often referred to as \"The Red City\" due to its distinctive red-hued buildings, stands against the backdrop of the snow-capped Atlas Mountains. Established in the 11th century, it has remained a crucial political, economic, and cultural center of Morocco. Journey through the Medina Marrakech's old town, the Medina, is a UNESCO World Heritage site and a labyrinthine maze of narrow alleys, bustling souks, and historical landmarks. The Djemaa el-Fna Square lies at the heart of the Medina and comes alive every evening with storytellers, musicians, snake charmers, and food stalls offering tantalizing Moroccan delicacies. Palaces and Gardens The city is also home to grand palaces like the Bahia Palace, showcasing intricate Islamic architecture, and the Saadian Tombs, remnants of the Saadian dynasty. The Majorelle Garden, restored by the fashion designer Yves Saint Laurent, is a tranquil oasis of cacti, palm trees, and cobalt blue accents. Modern Marrakech While tradition and history permeate Marrakech, the city is not averse to the modern world. Gueliz, the new town, is brimming with contemporary art galleries, stylish cafes, and chic boutiques, offering a stark contrast to the ancient Medina. Moroccan Cuisine No journey through Morocco and Marrakech would be complete without indulging in the local cuisine. Tagines, couscous, and pastilla are just a few of the many dishes that combine a plethora of flavors and spices like saffron, cumin, and mint. Paired with Moroccan mint tea, the culinary experience is truly unparalleled. In Conclusion Morocco, with Marrakech at its heart, offers travelers an unparalleled journey through time. The convergence of history, culture, architecture, and gastronomy makes it an enthralling destination for those seeking both adventure and reflection. As the Moroccan proverb goes, \"He who does not travel does not know the value of men.\" In the case of Morocco and Marrakech, it's not just the value of men, but also the value of time, tradition, and tales that have spanned centuries.\n",
        "\"\"\"\n",
        "\n",
        "# Tokenisation du texte en phrases\n",
        "sentences = sent_tokenize(text)\n",
        "\n",
        "# Tokenisation de chaque phrase en mots\n",
        "sentences = [word_tokenize(sentence) for sentence in sentences]\n",
        "\n",
        "# Entraînement du modèle\n",
        "model = Word2Vec(sentences, min_count=1)\n",
        "\n",
        "# Extraction de la représentation vectorielle d'un mot\n",
        "vector = model.wv['Morocco']\n",
        "\n",
        "# Calcul de la similarité entre deux mots\n",
        "similarity = model.wv.similarity('Morocco', 'Marrakech')\n",
        "\n",
        "# Extraction des mots les plus similaires à un mot donné\n",
        "similar_words = model.wv.most_similar('Morocco')\n",
        "\n",
        "print(\"la représentation vectorielle de'Morocco': \", vector)\n",
        "print(\"la similarité entre  'Morocco' and 'Marrakech': \", similarity)\n",
        "print(\"les mots contextuels pour 'Morocco': \", similar_words)\n"
      ],
      "metadata": {
        "colab": {
          "base_uri": "https://localhost:8080/"
        },
        "id": "zJFnf8xjjdZb",
        "outputId": "9fac5051-19aa-45ea-8c6e-2974e37987c1"
      },
      "execution_count": null,
      "outputs": [
        {
          "output_type": "stream",
          "name": "stderr",
          "text": [
            "[nltk_data] Downloading package punkt to /root/nltk_data...\n",
            "[nltk_data]   Unzipping tokenizers/punkt.zip.\n"
          ]
        },
        {
          "output_type": "stream",
          "name": "stdout",
          "text": [
            "la représentation vectorielle de'Morocco':  [-9.9529019e-03  9.1895889e-03  4.2230440e-03  9.3321251e-03\n",
            "  6.7373230e-03  2.4404984e-03  1.0103694e-02 -3.7070988e-03\n",
            " -7.1840622e-03  3.9972034e-03  3.6683818e-03 -6.0267528e-03\n",
            "  9.5433826e-03 -3.4601144e-03  9.4561791e-03  6.0437777e-04\n",
            " -6.1800461e-03 -2.2741321e-03 -7.8142136e-03 -3.6905673e-03\n",
            "  1.1914481e-03  9.3940543e-03  9.6346866e-03 -6.8074875e-03\n",
            "  3.5249765e-03  2.3123880e-03 -2.4032234e-03 -9.6622091e-03\n",
            "  8.3620171e-04 -8.1402082e-03  6.6755852e-03 -5.7731029e-03\n",
            "  5.7032816e-03  9.5784003e-03 -5.2232528e-04  5.1997984e-03\n",
            " -1.6071714e-03  6.9808597e-03  3.7958531e-03 -9.8673850e-03\n",
            " -2.3649293e-03  3.4159750e-03 -3.4234003e-04 -1.3372079e-03\n",
            " -6.0732936e-04 -1.9713999e-03  4.3405688e-04  3.9546243e-03\n",
            " -3.9176191e-03 -3.7512640e-03  3.0668903e-04 -6.4077460e-05\n",
            " -2.0427076e-04 -4.6446524e-03  4.0752743e-03 -1.9101332e-03\n",
            "  2.3999752e-03  6.1075424e-04  5.5360585e-03 -6.5947650e-03\n",
            " -6.6855531e-03 -4.3889084e-03  9.5869899e-03 -2.2642741e-03\n",
            " -1.0113424e-02 -3.9871098e-04 -4.2389268e-03  6.4484677e-03\n",
            " -1.0080532e-02  3.2831598e-03 -9.4755804e-03  1.3938881e-03\n",
            "  6.2741558e-03  7.5616534e-03 -7.1981545e-03 -5.8918595e-03\n",
            " -6.7501483e-03 -7.9189381e-03 -1.0170451e-02 -2.0619540e-03\n",
            " -8.1813062e-04 -7.1294541e-03  6.4791557e-03  1.4969967e-03\n",
            "  5.4069087e-03  1.2204367e-03  9.2204899e-04 -6.8186913e-03\n",
            " -1.9174843e-03  4.0812190e-03 -4.8438055e-03  1.6751046e-03\n",
            "  2.9960559e-03 -1.6196921e-03  1.0677162e-02  8.9929691e-03\n",
            "  2.6876552e-03  6.6785309e-03  6.0748383e-03 -5.6042089e-03]\n",
            "la similarité entre  'Morocco' and 'Marrakech':  0.0322201\n",
            "les mots contextuels pour 'Morocco':  [('Saadian', 0.28869569301605225), ('maze', 0.27631229162216187), ('town', 0.250039279460907), ('blue', 0.23432640731334686), ('and', 0.218133345246315), ('Sahara', 0.21199309825897217), ('art', 0.21062512695789337), ('Significance', 0.21053220331668854), ('As', 0.20820626616477966), ('A', 0.2000294327735901)]\n"
          ]
        }
      ]
    }
  ]
}